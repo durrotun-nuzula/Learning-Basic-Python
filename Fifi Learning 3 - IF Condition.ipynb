{
 "cells": [
  {
   "cell_type": "markdown",
   "metadata": {},
   "source": [
    "These conditions can be used in several ways, most commonly in \"if statements\" and loops."
   ]
  },
  {
   "cell_type": "code",
   "execution_count": 1,
   "metadata": {},
   "outputs": [
    {
     "name": "stdout",
     "output_type": "stream",
     "text": [
      "yes\n"
     ]
    }
   ],
   "source": [
    "if 1 == 1 :  \n",
    "    print ('yes') \n",
    "# if true it will be return in 'yes'"
   ]
  },
  {
   "cell_type": "code",
   "execution_count": 2,
   "metadata": {},
   "outputs": [],
   "source": [
    "if 1 == 2 :  \n",
    "    print ('yes') \n",
    "#if false it will return anything"
   ]
  },
  {
   "cell_type": "code",
   "execution_count": 3,
   "metadata": {},
   "outputs": [
    {
     "name": "stdout",
     "output_type": "stream",
     "text": [
      "benar\n"
     ]
    }
   ],
   "source": [
    "if 1 == 2 :\n",
    "    print('salah')\n",
    "else :\n",
    "    print('benar')"
   ]
  },
  {
   "cell_type": "code",
   "execution_count": 4,
   "metadata": {},
   "outputs": [
    {
     "name": "stdout",
     "output_type": "stream",
     "text": [
      "benar\n"
     ]
    }
   ],
   "source": [
    "if 1 == 2 :\n",
    "    print ('salah')\n",
    "elif 3 == 3 :\n",
    "    print ('benar')\n",
    "else :\n",
    "    print ('fifi')"
   ]
  },
  {
   "cell_type": "code",
   "execution_count": 5,
   "metadata": {},
   "outputs": [
    {
     "name": "stdout",
     "output_type": "stream",
     "text": [
      "benar 2\n"
     ]
    }
   ],
   "source": [
    "if 1 == 2 :           #False\n",
    "    print ('salah')\n",
    "elif 4 == 4 :         #True\n",
    "    print ('benar 2')\n",
    "elif 3 == 3 :         #True\n",
    "    print ('benar 1')\n",
    "else :\n",
    "    print ('fifi')\n",
    "#if there is two True here, it will be True the first one"
   ]
  },
  {
   "cell_type": "code",
   "execution_count": 6,
   "metadata": {},
   "outputs": [
    {
     "name": "stdout",
     "output_type": "stream",
     "text": [
      "salah\n"
     ]
    }
   ],
   "source": [
    "if 1 == 1 :           #True\n",
    "    print ('salah')\n",
    "elif 4 == 4 :         #True\n",
    "    print ('benar 2')\n",
    "elif 3 == 3 :         #True\n",
    "    print ('benar 1')\n",
    "else :\n",
    "    print ('fifi')"
   ]
  },
  {
   "cell_type": "code",
   "execution_count": 7,
   "metadata": {},
   "outputs": [
    {
     "name": "stdout",
     "output_type": "stream",
     "text": [
      "more than 10\n"
     ]
    }
   ],
   "source": [
    "a = 90\n",
    "\n",
    "if a < 0 :\n",
    "    print ('less than zero')\n",
    "elif a <= 5 :\n",
    "    print (\"1-5\")\n",
    "elif a <= 10 : \n",
    "    print (\"6-10\")\n",
    "else :\n",
    "    print ('more than 10')"
   ]
  },
  {
   "cell_type": "code",
   "execution_count": null,
   "metadata": {},
   "outputs": [],
   "source": []
  }
 ],
 "metadata": {
  "kernelspec": {
   "display_name": "Python 3",
   "language": "python",
   "name": "python3"
  },
  "language_info": {
   "codemirror_mode": {
    "name": "ipython",
    "version": 3
   },
   "file_extension": ".py",
   "mimetype": "text/x-python",
   "name": "python",
   "nbconvert_exporter": "python",
   "pygments_lexer": "ipython3",
   "version": "3.7.1"
  }
 },
 "nbformat": 4,
 "nbformat_minor": 2
}
